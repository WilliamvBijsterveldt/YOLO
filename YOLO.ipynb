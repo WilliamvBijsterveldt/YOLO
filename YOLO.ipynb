{
 "cells": [
  {
   "cell_type": "markdown",
   "metadata": {},
   "source": [
    "# AR challenge 2/3: Custom Object Detection network\n",
    "\n",
    "### members: Jens Boeijen, Daan Hovens en William van Bijsterveldt"
   ]
  },
  {
   "cell_type": "markdown",
   "metadata": {},
   "source": [
    "## Introduction\n",
    "\n",
    "### Objective\n",
    "\n",
    "This notebook contains code that trains and uses the YOLOv11 model to process data from a live video. In the video there will be custom objects that has to be bound in boxes and the location in the world be shown. \n",
    "\n",
    "### Overview\n",
    "\n",
    "As mentioned before we will be using the YOLOv11 model to process the data. To get the data we will be using a Intel Realsense d435 RGB-D camera to record and transmit the video to our model.\n"
   ]
  },
  {
   "cell_type": "markdown",
   "metadata": {},
   "source": [
    "Testfase\n",
    "\n",
    "1. Python programma video omzetten naar foto's.\n",
    "2. Roboflow foto's objecteren omcirkelen.\n",
    "3. Roboflow test uitvoeren.\n",
    "4. Foto naderhand maken om te kijken of de test goed gelukt was.\n",
    "5. Blijven herhalen tot de juiste percentage van het detecteren van de objecten er is.\n",
    " "
   ]
  }
 ],
 "metadata": {
  "kernelspec": {
   "display_name": "Python 3.10.7 64-bit",
   "language": "python",
   "name": "python3"
  },
  "language_info": {
   "name": "python",
   "version": "3.10.7"
  },
  "orig_nbformat": 4,
  "vscode": {
   "interpreter": {
    "hash": "773984e35b2abc5868a3183023e123ae3e5d714490846ad20d1e202e1b6956b8"
   }
  }
 },
 "nbformat": 4,
 "nbformat_minor": 2
}
